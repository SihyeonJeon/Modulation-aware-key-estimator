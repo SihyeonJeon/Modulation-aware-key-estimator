{
  "nbformat": 4,
  "nbformat_minor": 0,
  "metadata": {
    "colab": {
      "provenance": [],
      "machine_shape": "hm",
      "gpuType": "A100",
      "collapsed_sections": [
        "5x8A6ob84xHq",
        "eA0NmEZrvlb-"
      ],
      "authorship_tag": "ABX9TyPCcPhDVKTtihhbbh/sOihr",
      "include_colab_link": true
    },
    "kernelspec": {
      "name": "python3",
      "display_name": "Python 3"
    },
    "language_info": {
      "name": "python"
    },
    "accelerator": "GPU"
  },
  "cells": [
    {
      "cell_type": "markdown",
      "metadata": {
        "id": "view-in-github",
        "colab_type": "text"
      },
      "source": [
        "<a href=\"https://colab.research.google.com/github/SihyeonJeon/Modulation-aware-key-estimator/blob/main/Mod_aware_KE_Colab.ipynb\" target=\"_parent\"><img src=\"https://colab.research.google.com/assets/colab-badge.svg\" alt=\"Open In Colab\"/></a>"
      ]
    },
    {
      "cell_type": "markdown",
      "source": [
        "#####setting"
      ],
      "metadata": {
        "id": "5x8A6ob84xHq"
      }
    },
    {
      "cell_type": "code",
      "source": [
        "# #@markdown #Gdrive connection\n",
        "# from google.colab import drive\n",
        "# drive.mount('/content/drive')"
      ],
      "metadata": {
        "colab": {
          "base_uri": "https://localhost:8080/"
        },
        "id": "L1czRz_8lc7_",
        "outputId": "909e6e03-df86-46c8-e66f-2a38a60a5efa"
      },
      "execution_count": null,
      "outputs": [
        {
          "output_type": "stream",
          "name": "stdout",
          "text": [
            "Mounted at /content/drive\n"
          ]
        }
      ]
    },
    {
      "cell_type": "code",
      "source": [
        "#@markdown ##Installation\n",
        "print(\"Installing..\")\n",
        "!git clone https://github.com/SihyeonJeon/Modulation-aware-key-estimator.git\n",
        "%cd Modulation-aware-key-estimator\n",
        "!pip install -r requirements.txt"
      ],
      "metadata": {
        "id": "ubhzRzdNVFf-"
      },
      "execution_count": null,
      "outputs": []
    },
    {
      "cell_type": "code",
      "source": [
        "#@markdown ##restart\n",
        "import os\n",
        "os.kill(os.getpid(), 9)"
      ],
      "metadata": {
        "id": "Q_d5rdglsIWV"
      },
      "execution_count": null,
      "outputs": []
    },
    {
      "cell_type": "code",
      "source": [
        "# @title Function\n",
        "\n",
        "import sys\n",
        "sys.path.append('/content/Modulation-aware-key-estimator/app')\n",
        "\n",
        "from model_loader import load_model\n",
        "from utils import finalize_downloaded_wav\n",
        "import subprocess\n",
        "import uuid\n",
        "import os\n",
        "from pathlib import Path\n",
        "import yt_dlp\n",
        "import torch\n",
        "import torchaudio\n",
        "import os\n",
        "from IPython.display import Audio\n",
        "import numpy as np\n",
        "import torch.nn.functional as F\n",
        "from utils import preprocess_waveform, compute_chromagram, compute_hpcp, pitch_shift_segments\n",
        "from model_loader import load_model\n",
        "from inference import run_inference\n",
        "\n",
        "\n",
        "# 모델 로드\n",
        "model_checkpoint_path = \"/content/drive/MyDrive/a2/key_model.pt\"\n",
        "model = load_model(model_checkpoint_path)\n",
        "\n",
        "\n",
        "\n",
        "# 유튜브 다운로드\n",
        "def download_youtube_audio(youtube_url, output_dir=\"/content\"):\n",
        "    os.makedirs(output_dir, exist_ok=True)\n",
        "    unique_id = uuid.uuid4().hex[:8]\n",
        "    output_template = f\"{output_dir}/%(title)s_{unique_id}.%(ext)s\"\n",
        "    download_command = [\n",
        "        \"yt-dlp\",\n",
        "        \"-x\", \"--audio-format\", \"wav\",\n",
        "        \"--output\", output_template,\n",
        "        \"--encoding\", \"utf-8\",\n",
        "        \"--cookies\", \"/content/Modulation-aware-key-estimator/cookies.txt\",\n",
        "        \"--geo-bypass\",\n",
        "        youtube_url\n",
        "    ]\n",
        "    subprocess.run(download_command, check=True)\n",
        "    return finalize_downloaded_wav(output_dir)\n",
        "\n",
        "def standardize_key(key):\n",
        "    key = key.strip().lower()\n",
        "    flat_to_sharp = {\n",
        "        'db': 'c#',\n",
        "        'eb': 'd#',\n",
        "        'gb': 'f#',\n",
        "        'ab': 'g#',\n",
        "        'bb': 'a#'\n",
        "    }\n",
        "    # 매핑 적용\n",
        "    return flat_to_sharp.get(key, key)\n",
        "\n",
        "target_key_list = ['c', 'c#', 'd', 'd#', 'e', 'f', 'f#', 'g', 'g#', 'a', 'a#', 'b']\n",
        "\n"
      ],
      "metadata": {
        "id": "lc-w1DkTVf_a"
      },
      "execution_count": null,
      "outputs": []
    },
    {
      "cell_type": "markdown",
      "source": [
        "# 🎵 유튜브 오디오 키 변환\n",
        "\n",
        "전조가 있는 음악도 모든 구간이 일관된 키로 이동합니다.\n"
      ],
      "metadata": {
        "id": "VpfrMuB63hvz"
      }
    },
    {
      "cell_type": "markdown",
      "source": [],
      "metadata": {
        "id": "uSpx9MLCTh71"
      }
    },
    {
      "cell_type": "markdown",
      "source": [
        "### 입력값\n",
        "\n",
        "1. 좋아하는 음악의 유튜브 링크(10분 미만 권장)\n",
        "<br>\n",
        "2. 변환할 key (대소문자 상관없음, # 또는 b 사용)"
      ],
      "metadata": {
        "id": "eA0NmEZrvlb-"
      }
    },
    {
      "cell_type": "code",
      "source": [
        "\n",
        "#@markdown ## Music Processing\n",
        "#@markdown ---\n",
        "youtube_url = \"https://www.youtube.com/watch?v=C_aaRUR738g\" #@param {type:\"string\"}\n",
        "to_key = \"c\" #@param {type:\"string\"}\n",
        "\n",
        "#@markdown ---\n",
        "\n",
        "# 입력된 키 표준화\n",
        "to_key_standard = standardize_key(to_key)\n",
        "try:\n",
        "    target_key_index = target_key_list.index(to_key_standard)\n",
        "except ValueError:\n",
        "    raise ValueError(f\"타겟 키 '{to_key_standard}'가 유효하지 않습니다.\")\n",
        "\n",
        "print(\"처리 중...\")\n",
        "\n",
        "# 유튜브 다운로드 및 모델 실행\n",
        "wav_path = download_youtube_audio(youtube_url)\n",
        "result = run_inference(wav_path, model, target_key_index=target_key_index)\n",
        "\n",
        "print(\"결과:\", result)\n",
        "\n",
        "print(f\"Original WAV: {wav_path}\")\n",
        "from IPython.display import Audio\n",
        "display(Audio(wav_path))\n",
        "\n",
        "shifted_wav_path = result['shifted_wav_path']\n",
        "print(f\"Pitch-shifted WAV: {shifted_wav_path}\")\n",
        "display(Audio(shifted_wav_path))\n"
      ],
      "metadata": {
        "colab": {
          "base_uri": "https://localhost:8080/",
          "height": 446
        },
        "id": "l0LyGsQMbvpY",
        "outputId": "089311f7-3a53-49cd-d200-ede6f8a5d92e",
        "cellView": "form"
      },
      "execution_count": null,
      "outputs": []
    }
  ]
}